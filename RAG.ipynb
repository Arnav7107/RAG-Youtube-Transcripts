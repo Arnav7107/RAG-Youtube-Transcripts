{
 "cells": [
  {
   "cell_type": "code",
   "execution_count": 1,
   "id": "a1eebdaa",
   "metadata": {},
   "outputs": [],
   "source": [
    "from youtube_transcript_api import YouTubeTranscriptApi, TranscriptsDisabled\n",
    "from langchain_google_genai import ChatGoogleGenerativeAI, GoogleGenerativeAIEmbeddings\n",
    "from langchain_core.output_parsers import StrOutputParser\n",
    "from langchain_text_splitters import RecursiveCharacterTextSplitter\n",
    "from langchain_community.vectorstores import FAISS\n",
    "from langchain_core.prompts import PromptTemplate"
   ]
  },
  {
   "cell_type": "code",
   "execution_count": 2,
   "id": "15c4d937",
   "metadata": {},
   "outputs": [],
   "source": [
    "ytt_api = YouTubeTranscriptApi()"
   ]
  },
  {
   "cell_type": "code",
   "execution_count": 18,
   "id": "5cf3da81",
   "metadata": {},
   "outputs": [
    {
     "name": "stdout",
     "output_type": "stream",
     "text": [
      "So what's the probability of Google deep mind winning? >> Well, I don't see it as sort of winning. I mean, I think we need to think winning is the wrong way to look at it given how important and consequential what it is we're building. So, funnily enough, I don't I try not to view it like a game or competition, even though that's a lot of my mindset. It's it's about in my view all of us have those of us at the leading edge have a responsibility to um steward this unbelievable technology that could be used for incredible good but also has risks um steward it safely into the world for the benefit of humanity. That's always um what I've um uh uh dreamed about and what we've always tried to do and I hope that's what eventually the community maybe the international community will rally around when it becomes obvious that as we get closer and closer to to AGI that um that's what's needed. >> I agree with you. I think that's beautifully put. You've said that um you talked to and are on good terms with the leads of some of these uh labs as the competition heats up. Uh how hard is it to maintain sort of those relationships? >> It's been okay so far. I try to pride myself in being uh collaborative. I'm a collaborative person. Research is a collaborative endeavor. Science is a collaborative endeavor, right? It's all good for humanity in the end. If you cure incredible, you know, terrible diseases and you come with an incredible cure. This is net win for humanity. And the same with energy. All of the things that I'm interested in in in helping solve with AI. So, I just want that technology to exist in the world. and be used for the right things and and and the the kind of the benefits of that the productivity benefits of that being shared for every the benefit of everyone. So I try to maintain good relations with all the leading lab uh people. They have very interesting characters many of them as you might expect. Um but yeah, I'm on good terms I I hope with pretty much all of them. And uh I I think that's going to be important when when things get even more serious than they are now. uh that there are those communication channels and uh that's what will facilitate uh cooperation or collaboration if that's what is required especially on things like safety. >> Yeah, I hope there's some collaboration on stuff that's uh sort of less high stakes and and so doing serves as a mechanism for maintaining friendships and relationships. So, for example, I think the internet would love it if you and Elon somehow collaborated on creating a video game, that kind of thing. That I think that enables camaraderie in good terms. And also, you two are legit gamers, so it's just fun to Yeah. >> fun to that would be awesome. And we've talked about that in the past, and it may be a cool thing that that you know, we can do. And I agree with you. It'd be nice to have um kind of side projects in a way where where one can just lean into the collaboration aspect of it and it's a sort of uh win-win for both sides and it's um and it kind of builds up that that that uh collaborative muscle. >> I see the scientific endeavor as that kind of side project for humanity and I I think deep Google deep mind has been really pushing that. I would love it if to see other labs do more scientific stuff and then collaborate cuz it just seems like easier to collaborate on the big scientific questions. I agree and I would love to see a lot of people a lot of the other labs talk about science but I think we're really the only ones using it for science and doing that and that's why projects like Alpha Fold are so important to me and I think to our mission is to show uh how AI can vis you know be clearly used in a very concrete way for the benefit of humanity and and also we spun out companies like isomorphic off the back of AlphaFold to do drug discovery and it's going really well and build sort of you know you can think of build additional alpha fold type systems to go into chemistry space to help accelerate drug design and the examples I think we need to show and society needs to understand of what AI can bring these huge benefits. >> Well, from the bottom of my heart, thank you for pushing the scientific efforts forward with with rigor, with fun, with humility, all of it. I just love to see and still talking about P= NP. I mean, it's just incredible. So, I love it.\n"
     ]
    }
   ],
   "source": [
    "video_id = \"S236_0moRs4\"\n",
    "try:\n",
    "    transcipt_list = ytt_api.fetch(video_id, languages=[\"en\"])\n",
    "    transcript = \" \".join([chunk.text for chunk in transcipt_list])\n",
    "    # print(transcipt_list, \"\\n\")\n",
    "    # print(\"-------------------------------------------------------------------------------------------------\",\"\\n\")\n",
    "    print(transcript)\n",
    "    \n",
    "    \n",
    "except TranscriptsDisabled:\n",
    "    print(\"No captions available for this video\")"
   ]
  },
  {
   "cell_type": "code",
   "execution_count": 19,
   "id": "fadb0e32",
   "metadata": {},
   "outputs": [
    {
     "name": "stdout",
     "output_type": "stream",
     "text": [
      "6\n"
     ]
    }
   ],
   "source": [
    "# Document Splitting\n",
    "\n",
    "splitter = RecursiveCharacterTextSplitter(chunk_size = 1000, chunk_overlap = 200)\n",
    "chunks = splitter.create_documents([transcript])\n",
    "print(len(chunks))"
   ]
  },
  {
   "cell_type": "code",
   "execution_count": 20,
   "id": "3be8afb4",
   "metadata": {},
   "outputs": [
    {
     "name": "stdout",
     "output_type": "stream",
     "text": [
      "{0: '26654174-6109-4307-814e-740e03f1a834', 1: '92c7dfc6-96bd-426f-9d63-db3711f75769', 2: '216fb94a-eae2-47ed-ad65-25319704a02b', 3: 'e59b2b5b-769d-4d66-94af-0b22a2fbc346', 4: '8475dd42-f2c9-4f23-ac1a-114eb1ce72ce', 5: 'e27671e9-061d-4aa6-901e-1186e686fe24'}\n"
     ]
    }
   ],
   "source": [
    "# Embedding of Splitted Documents \n",
    "\n",
    "embeddings = GoogleGenerativeAIEmbeddings(model=\"models/gemini-embedding-001\")\n",
    "\n",
    "vector_store = FAISS.from_documents(chunks, embeddings)\n",
    "print(vector_store.index_to_docstore_id)\n",
    "\n"
   ]
  },
  {
   "cell_type": "code",
   "execution_count": 21,
   "id": "bab91e1b",
   "metadata": {},
   "outputs": [
    {
     "name": "stdout",
     "output_type": "stream",
     "text": [
      "[Document(id='26654174-6109-4307-814e-740e03f1a834', metadata={}, page_content=\"So what's the probability of Google deep mind winning? >> Well, I don't see it as sort of winning. I mean, I think we need to think winning is the wrong way to look at it given how important and consequential what it is we're building. So, funnily enough, I don't I try not to view it like a game or competition, even though that's a lot of my mindset. It's it's about in my view all of us have those of us at the leading edge have a responsibility to um steward this unbelievable technology that could be used for incredible good but also has risks um steward it safely into the world for the benefit of humanity. That's always um what I've um uh uh dreamed about and what we've always tried to do and I hope that's what eventually the community maybe the international community will rally around when it becomes obvious that as we get closer and closer to to AGI that um that's what's needed. >> I agree with you. I think that's beautifully put. You've said that um you talked to and are on good\")]\n"
     ]
    }
   ],
   "source": [
    "doc = vector_store.get_by_ids([\"26654174-6109-4307-814e-740e03f1a834\"])\n",
    "print(doc)"
   ]
  },
  {
   "cell_type": "code",
   "execution_count": 22,
   "id": "e6c64d00",
   "metadata": {},
   "outputs": [],
   "source": [
    "# Bulinding Retriever \n",
    "\n",
    "retriever = vector_store.as_retriever(search_type = \"similarity\", search_kwargs = {\"k\" : 4})"
   ]
  },
  {
   "cell_type": "code",
   "execution_count": 23,
   "id": "a895167e",
   "metadata": {},
   "outputs": [
    {
     "data": {
      "text/plain": [
       "[Document(id='26654174-6109-4307-814e-740e03f1a834', metadata={}, page_content=\"So what's the probability of Google deep mind winning? >> Well, I don't see it as sort of winning. I mean, I think we need to think winning is the wrong way to look at it given how important and consequential what it is we're building. So, funnily enough, I don't I try not to view it like a game or competition, even though that's a lot of my mindset. It's it's about in my view all of us have those of us at the leading edge have a responsibility to um steward this unbelievable technology that could be used for incredible good but also has risks um steward it safely into the world for the benefit of humanity. That's always um what I've um uh uh dreamed about and what we've always tried to do and I hope that's what eventually the community maybe the international community will rally around when it becomes obvious that as we get closer and closer to to AGI that um that's what's needed. >> I agree with you. I think that's beautifully put. You've said that um you talked to and are on good\"),\n",
       " Document(id='8475dd42-f2c9-4f23-ac1a-114eb1ce72ce', metadata={}, page_content=\"Google deep mind has been really pushing that. I would love it if to see other labs do more scientific stuff and then collaborate cuz it just seems like easier to collaborate on the big scientific questions. I agree and I would love to see a lot of people a lot of the other labs talk about science but I think we're really the only ones using it for science and doing that and that's why projects like Alpha Fold are so important to me and I think to our mission is to show uh how AI can vis you know be clearly used in a very concrete way for the benefit of humanity and and also we spun out companies like isomorphic off the back of AlphaFold to do drug discovery and it's going really well and build sort of you know you can think of build additional alpha fold type systems to go into chemistry space to help accelerate drug design and the examples I think we need to show and society needs to understand of what AI can bring these huge benefits. >> Well, from the bottom of my heart, thank you\"),\n",
       " Document(id='e27671e9-061d-4aa6-901e-1186e686fe24', metadata={}, page_content=\"space to help accelerate drug design and the examples I think we need to show and society needs to understand of what AI can bring these huge benefits. >> Well, from the bottom of my heart, thank you for pushing the scientific efforts forward with with rigor, with fun, with humility, all of it. I just love to see and still talking about P= NP. I mean, it's just incredible. So, I love it.\"),\n",
       " Document(id='e59b2b5b-769d-4d66-94af-0b22a2fbc346', metadata={}, page_content=\"mechanism for maintaining friendships and relationships. So, for example, I think the internet would love it if you and Elon somehow collaborated on creating a video game, that kind of thing. That I think that enables camaraderie in good terms. And also, you two are legit gamers, so it's just fun to Yeah. >> fun to that would be awesome. And we've talked about that in the past, and it may be a cool thing that that you know, we can do. And I agree with you. It'd be nice to have um kind of side projects in a way where where one can just lean into the collaboration aspect of it and it's a sort of uh win-win for both sides and it's um and it kind of builds up that that that uh collaborative muscle. >> I see the scientific endeavor as that kind of side project for humanity and I I think deep Google deep mind has been really pushing that. I would love it if to see other labs do more scientific stuff and then collaborate cuz it just seems like easier to collaborate on the big scientific\")]"
      ]
     },
     "execution_count": 23,
     "metadata": {},
     "output_type": "execute_result"
    }
   ],
   "source": [
    "retriever.invoke(\"What is probability of deep mind winning?\")"
   ]
  },
  {
   "cell_type": "code",
   "execution_count": null,
   "id": "b0518e9f",
   "metadata": {},
   "outputs": [],
   "source": []
  }
 ],
 "metadata": {
  "kernelspec": {
   "display_name": "myenv",
   "language": "python",
   "name": "python3"
  },
  "language_info": {
   "codemirror_mode": {
    "name": "ipython",
    "version": 3
   },
   "file_extension": ".py",
   "mimetype": "text/x-python",
   "name": "python",
   "nbconvert_exporter": "python",
   "pygments_lexer": "ipython3",
   "version": "3.13.0"
  }
 },
 "nbformat": 4,
 "nbformat_minor": 5
}
